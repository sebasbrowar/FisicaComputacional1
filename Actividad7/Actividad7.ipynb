{
  "nbformat": 4,
  "nbformat_minor": 0,
  "metadata": {
    "colab": {
      "name": "Actividad7.ipynb",
      "provenance": [],
      "authorship_tag": "ABX9TyMWz3mDBdvvMfrZ0lz5Sjcu",
      "include_colab_link": true
    },
    "kernelspec": {
      "name": "python3",
      "display_name": "Python 3"
    }
  },
  "cells": [
    {
      "cell_type": "markdown",
      "metadata": {
        "id": "view-in-github",
        "colab_type": "text"
      },
      "source": [
        "<a href=\"https://colab.research.google.com/github/sebasbrowar/FisicaComputacional1/blob/main/Actividad7/Actividad7.ipynb\" target=\"_parent\"><img src=\"https://colab.research.google.com/assets/colab-badge.svg\" alt=\"Open In Colab\"/></a>"
      ]
    },
    {
      "cell_type": "markdown",
      "metadata": {
        "id": "fXhTe3Go4XS3"
      },
      "source": [
        "# $\\text{Actividad 7}$"
      ]
    },
    {
      "cell_type": "code",
      "metadata": {
        "id": "ibwSW3KE1RJQ",
        "colab": {
          "base_uri": "https://localhost:8080/"
        },
        "outputId": "f467cb18-e139-4fce-d078-e1ce35b8fd86"
      },
      "source": [
        "import pandas as pd\r\n",
        "import numpy as np\r\n",
        "import matplotlib.pyplot as plt\r\n",
        "import seaborn as sns\r\n",
        "import scipy.linalg as la\r\n",
        "from numpy.linalg import matrix_power as mpow\r\n",
        "\r\n",
        "# Bibliotecas para el análisis de Series de Tiempo y Modelos de Pronóstico\r\n",
        "import statsmodels.api as sm\r\n",
        "from statsmodels.tsa.stattools import adfuller\r\n",
        "from statsmodels.tsa.arima_model import ARIMA\r\n",
        "from statsmodels.tsa.stattools import acf, pacf\r\n",
        "\r\n",
        "import pandas.util.testing as tm\r\n",
        "\r\n",
        "# Suprimir mensajes de alertas de cambios futuros\r\n",
        "import warnings\r\n",
        "warnings.simplefilter(action='ignore', category=FutureWarning)\r\n",
        "\r\n",
        "# Matplotlib mostrará los resultados en la Notebook de Jupyter\r\n",
        "%matplotlib inline"
      ],
      "execution_count": 83,
      "outputs": [
        {
          "output_type": "stream",
          "text": [
            "/usr/local/lib/python3.7/dist-packages/statsmodels/tools/_testing.py:19: FutureWarning: pandas.util.testing is deprecated. Use the functions in the public API at pandas.testing instead.\n",
            "  import pandas.util.testing as tm\n"
          ],
          "name": "stderr"
        }
      ]
    },
    {
      "cell_type": "markdown",
      "metadata": {
        "id": "e4knqyMi4WG_"
      },
      "source": [
        "## $\\text{Ejercicio 1}$"
      ]
    },
    {
      "cell_type": "markdown",
      "metadata": {
        "id": "9W9tX9vD6LKt"
      },
      "source": [
        "Defina las siguientes matrices.\r\n",
        "\r\n",
        "\\begin{equation*}\r\n",
        " A\r\n",
        " =\r\n",
        "  \\begin{bmatrix}\r\n",
        "   1 & 3 \\\\\r\n",
        "   -1 & 7\r\n",
        "   \\end{bmatrix}\r\n",
        "\\end{equation*}\r\n",
        "\r\n",
        "\\begin{equation*}\r\n",
        " B =\r\n",
        "  \\begin{bmatrix}\r\n",
        "   5 & 2 \\\\\r\n",
        "   1 & 2\r\n",
        "   \\end{bmatrix}\r\n",
        "\\end{equation*}\r\n",
        "\r\n",
        "y la matrix identidad\r\n",
        "\r\n",
        " \\begin{equation*}\r\n",
        " I = \r\n",
        "   \\begin{bmatrix}\r\n",
        "   1 & 0 \\\\\r\n",
        "   0 & 1\r\n",
        "   \\end{bmatrix}\r\n",
        "\\end{equation*}\r\n",
        "\r\n",
        "Calcule el resultado de $2*I+3*A+A@B$.\r\n",
        "\r\n",
        "Para definir la matriz identidad, se puede utilizar la función *np.eye(2, dtype=int)*. Ver manual de  [np.eye()](https://numpy.org/doc/stable/reference/generated/numpy.eye.html)."
      ]
    },
    {
      "cell_type": "code",
      "metadata": {
        "colab": {
          "base_uri": "https://localhost:8080/"
        },
        "id": "aFLxpBaJ4ged",
        "outputId": "7675409f-551f-4ae3-f029-5e137906916c"
      },
      "source": [
        "# Definimos una matriz A\r\n",
        "A = np.array([[1,3],[-1,7]])\r\n",
        "print(A)"
      ],
      "execution_count": null,
      "outputs": [
        {
          "output_type": "stream",
          "text": [
            "[[ 1  3]\n",
            " [-1  7]]\n"
          ],
          "name": "stdout"
        }
      ]
    },
    {
      "cell_type": "code",
      "metadata": {
        "colab": {
          "base_uri": "https://localhost:8080/"
        },
        "id": "YPVWhKuB5Eu7",
        "outputId": "40c6625b-3011-4605-f8fe-060e7baa36a2"
      },
      "source": [
        "# Definimos una matriz B\r\n",
        "B = np.array([[5,2],[1,2]])\r\n",
        "print(B)"
      ],
      "execution_count": null,
      "outputs": [
        {
          "output_type": "stream",
          "text": [
            "[[5 2]\n",
            " [1 2]]\n"
          ],
          "name": "stdout"
        }
      ]
    },
    {
      "cell_type": "code",
      "metadata": {
        "colab": {
          "base_uri": "https://localhost:8080/"
        },
        "id": "HMmOD37a5QUX",
        "outputId": "7d28dfc7-0909-4be5-875b-c1bf53e33e5f"
      },
      "source": [
        "# Matriz identidad\r\n",
        "I = np.eye(2, dtype=int)\r\n",
        "print(I)"
      ],
      "execution_count": null,
      "outputs": [
        {
          "output_type": "stream",
          "text": [
            "[[1 0]\n",
            " [0 1]]\n"
          ],
          "name": "stdout"
        }
      ]
    },
    {
      "cell_type": "code",
      "metadata": {
        "colab": {
          "base_uri": "https://localhost:8080/"
        },
        "id": "FG6g17eo5pfL",
        "outputId": "913536d8-588f-45a7-a30f-4042c6e81109"
      },
      "source": [
        "2*I + 3*A + A@B"
      ],
      "execution_count": null,
      "outputs": [
        {
          "output_type": "execute_result",
          "data": {
            "text/plain": [
              "array([[13, 17],\n",
              "       [-1, 35]])"
            ]
          },
          "metadata": {
            "tags": []
          },
          "execution_count": 20
        }
      ]
    },
    {
      "cell_type": "markdown",
      "metadata": {
        "id": "xNdxTOkMDgQK"
      },
      "source": [
        "## $\\text{Ejercicio 2 - Los polinomios característicos y el Teorema de Cayley-Hamilton}$"
      ]
    },
    {
      "cell_type": "markdown",
      "metadata": {
        "id": "SyGhuxGGDlSL"
      },
      "source": [
        "El polinomio característico de una matriz M esta dado en general por la ecuación \r\n",
        "\\begin{equation}\r\n",
        "\\det(M - \\lambda I) = 0\r\n",
        "\\end{equation}\r\n",
        "Para una matriz cuadrada M (2x2), el polinomio característico se puede escribir como\r\n",
        "\\begin{equation}\r\n",
        "P_2 (\\lambda) = \\det{(M)} - \\mathrm{tr}(M) \\, \\lambda + \\lambda^2   \r\n",
        "\\end{equation}\r\n",
        "y para una matriz cuadrada M (3x3), el polinomio característico resulta ser\r\n",
        "\r\n",
        "\\begin{equation}\r\n",
        "P_3 (\\lambda) = \\frac{1}{6} \r\n",
        "[ \\mathrm{tr}^3 (M) + 2 \\, \\mathrm{tr }(M^3) - 3 \\, \\mathrm{tr}(M) \\mathrm{tr}(M^2) ] - \r\n",
        "\\frac{1}{2} [ \\mathrm{tr}^2 (M) - \\mathrm{tr}(M^2) ] \\lambda + \\mathrm{tr}(M) \\lambda^2 - \\lambda^3\r\n",
        "\\end{equation}\r\n",
        "\r\n",
        "[El Teorema de Cayley-Hamilton](https://en.wikipedia.org/wiki/Cayley–Hamilton_theorem) nos dice que una matriz cuadrada M (2x2), satisface el polinomio característico\r\n",
        "\\begin{equation}\r\n",
        "P_2(M) = \\det(M) - \\mathrm{tr}(M) M + M^2 \r\n",
        "\\end{equation}\r\n",
        "y en general cualquier matriz cuadrada M (nxn), satisface $P_n(M)$. \r\n",
        "\r\n",
        "Demuestre esto para cualquier matriz M (2x2),  ($\\det(M) \\neq 0$)."
      ]
    },
    {
      "cell_type": "code",
      "metadata": {
        "colab": {
          "base_uri": "https://localhost:8080/"
        },
        "id": "nFPrcBtmGB9j",
        "outputId": "72e5a159-b1f4-4180-a695-945418b67a37"
      },
      "source": [
        "# Definimos una matriz M \r\n",
        "M = np.array([[1,2],[3,4]])\r\n",
        "M_det = la.det(M)\r\n",
        "trM = np.trace(M)\r\n",
        "\r\n",
        "print('M = ',M)\r\n",
        "print('det(M) = ', M_det)\r\n",
        "print('tr(M) = ', trM)"
      ],
      "execution_count": null,
      "outputs": [
        {
          "output_type": "stream",
          "text": [
            "M =  [[1 2]\n",
            " [3 4]]\n",
            "det(M) =  -2.0\n",
            "tr(M) =  5\n"
          ],
          "name": "stdout"
        }
      ]
    },
    {
      "cell_type": "code",
      "metadata": {
        "colab": {
          "base_uri": "https://localhost:8080/"
        },
        "id": "ISou_vBaLDvX",
        "outputId": "4563affd-f8d0-4a8e-c253-6b44331ee675"
      },
      "source": [
        "# Matriz identidad\r\n",
        "I = np.eye(2, dtype=int)\r\n",
        "print(I)"
      ],
      "execution_count": null,
      "outputs": [
        {
          "output_type": "stream",
          "text": [
            "[[1 0]\n",
            " [0 1]]\n"
          ],
          "name": "stdout"
        }
      ]
    },
    {
      "cell_type": "code",
      "metadata": {
        "colab": {
          "base_uri": "https://localhost:8080/"
        },
        "id": "_vxOj2mmIf5u",
        "outputId": "d4eb6a65-9348-4d69-cb46-a21e7af9d86a"
      },
      "source": [
        "# Teorema de Cayley-Hamilton, polinomio característico\r\n",
        "PM = M_det*I - trM*M + M@M\r\n",
        "\r\n",
        "print(PM)"
      ],
      "execution_count": null,
      "outputs": [
        {
          "output_type": "stream",
          "text": [
            "[[0. 0.]\n",
            " [0. 0.]]\n"
          ],
          "name": "stdout"
        }
      ]
    },
    {
      "cell_type": "markdown",
      "metadata": {
        "id": "1zG1k9ShNQCG"
      },
      "source": [
        "## $\\text{Ejercicio 3}$"
      ]
    },
    {
      "cell_type": "markdown",
      "metadata": {
        "id": "Pk7sowRpNY57"
      },
      "source": [
        "Resuelva el sistema de ecuaciones.\r\n",
        "\r\n",
        "\\begin{eqnarray*}\r\n",
        "x - 3 y + z & = & 1 \\\\ \\nonumber\r\n",
        "3 x - 4y + z & = & 5 \\\\ \\nonumber\r\n",
        "2 y - z & = & 0 \\\\ \\nonumber\r\n",
        "\\end{eqnarray*}\r\n",
        "\r\n",
        "de dos formas, utilizando el Método de Eliminación Gaussiana y la utilzando la función scipy.linalg.solve()"
      ]
    },
    {
      "cell_type": "markdown",
      "metadata": {
        "id": "QFyz9C3PXxE2"
      },
      "source": [
        "### Método de Eliminación Gaussiana"
      ]
    },
    {
      "cell_type": "code",
      "metadata": {
        "id": "huEamcDUNt4X"
      },
      "source": [
        "# Implementación del método de eliminación Gaussiana\r\n",
        "# Definimos 3 funciones \r\n",
        "\r\n",
        "# Intercambio de posición de renglones.\r\n",
        "def switch_rows(A,i,j):\r\n",
        "    \"Intercambiar renglones i y j en la matriz A.\"\r\n",
        "    n = A.shape[0]\r\n",
        "    E = np.eye(n)\r\n",
        "    E[i,i] = 0\r\n",
        "    E[j,j] = 0\r\n",
        "    E[i,j] = 1\r\n",
        "    E[j,i] = 1\r\n",
        "    return E @ A\r\n",
        "\r\n",
        "# Multiplicar un renglón por una constante no nula.\r\n",
        "def scale_row(A,k,i):\r\n",
        "    \"Multiplicar el renglón i por k en la matriz A.\"\r\n",
        "    n = A.shape[0]\r\n",
        "    E = np.eye(n)\r\n",
        "    E[i,i] = k\r\n",
        "    return E @ A\r\n",
        "\r\n",
        "# Sumar un múltiplo de un reglon a otro renglón.\r\n",
        "def add_row(A,k,i,j):\r\n",
        "    \"Sumar k veces el renglón j al renglón i en la matriz A.\"\r\n",
        "    n = A.shape[0]\r\n",
        "    E = np.eye(n)\r\n",
        "    if i == j:\r\n",
        "        E[i,i] = k + 1\r\n",
        "    else:\r\n",
        "        E[i,j] = k\r\n",
        "    return E @ A\r\n"
      ],
      "execution_count": null,
      "outputs": []
    },
    {
      "cell_type": "code",
      "metadata": {
        "colab": {
          "base_uri": "https://localhost:8080/"
        },
        "id": "upiJFpdXOhUf",
        "outputId": "8dbac609-3e51-4fe1-d621-416084d5009c"
      },
      "source": [
        "B = np.array([[1,-3,1,1], [3,-4,1,5], [0,2,-1,0]])\r\n",
        "print(B)"
      ],
      "execution_count": null,
      "outputs": [
        {
          "output_type": "stream",
          "text": [
            "[[ 1 -3  1  1]\n",
            " [ 3 -4  1  5]\n",
            " [ 0  2 -1  0]]\n"
          ],
          "name": "stdout"
        }
      ]
    },
    {
      "cell_type": "code",
      "metadata": {
        "colab": {
          "base_uri": "https://localhost:8080/"
        },
        "id": "iv-hKf0_QRHf",
        "outputId": "29388291-f9f4-49a9-cd0e-52e1036e54d1"
      },
      "source": [
        "# L1 * -3\r\n",
        "B1 = scale_row(B, -3, 0)\r\n",
        "print(B1)"
      ],
      "execution_count": null,
      "outputs": [
        {
          "output_type": "stream",
          "text": [
            "[[-3.  9. -3. -3.]\n",
            " [ 3. -4.  1.  5.]\n",
            " [ 0.  2. -1.  0.]]\n"
          ],
          "name": "stdout"
        }
      ]
    },
    {
      "cell_type": "code",
      "metadata": {
        "colab": {
          "base_uri": "https://localhost:8080/"
        },
        "id": "rsOR9XvGQuLn",
        "outputId": "27d097ac-4a9c-44e4-e3f8-0b364ef6b08c"
      },
      "source": [
        "# (L1 * -3) + L2 --- L2\r\n",
        "B2 = add_row(B1, 1, 1, 0)\r\n",
        "print(B2)"
      ],
      "execution_count": null,
      "outputs": [
        {
          "output_type": "stream",
          "text": [
            "[[-3.  9. -3. -3.]\n",
            " [ 0.  5. -2.  2.]\n",
            " [ 0.  2. -1.  0.]]\n"
          ],
          "name": "stdout"
        }
      ]
    },
    {
      "cell_type": "code",
      "metadata": {
        "colab": {
          "base_uri": "https://localhost:8080/"
        },
        "id": "U-kFiQmJRs2J",
        "outputId": "c5ba4bb5-ff1c-4178-e1d2-c0ef9c93ccd6"
      },
      "source": [
        "# Regresamos a la L1 original y ahora tenemos la nueva L2\r\n",
        "B3 = np.array([[1,-3,1,1], [0,5,-2,2], [0,2,-1,0]])\r\n",
        "print(B3)"
      ],
      "execution_count": null,
      "outputs": [
        {
          "output_type": "stream",
          "text": [
            "[[ 1 -3  1  1]\n",
            " [ 0  5 -2  2]\n",
            " [ 0  2 -1  0]]\n"
          ],
          "name": "stdout"
        }
      ]
    },
    {
      "cell_type": "code",
      "metadata": {
        "colab": {
          "base_uri": "https://localhost:8080/"
        },
        "id": "MOlV8fqVR36b",
        "outputId": "434c483e-5859-484d-d9ca-c1009b154d03"
      },
      "source": [
        "# L2 * -2/5\r\n",
        "B4 = scale_row(B3, -2/5, 1)\r\n",
        "print(B4)"
      ],
      "execution_count": null,
      "outputs": [
        {
          "output_type": "stream",
          "text": [
            "[[ 1.  -3.   1.   1. ]\n",
            " [ 0.  -2.   0.8 -0.8]\n",
            " [ 0.   2.  -1.   0. ]]\n"
          ],
          "name": "stdout"
        }
      ]
    },
    {
      "cell_type": "code",
      "metadata": {
        "colab": {
          "base_uri": "https://localhost:8080/"
        },
        "id": "_CgT8-m1SZIv",
        "outputId": "b10ec855-96d4-4be7-fe6f-6cfd5a77bc20"
      },
      "source": [
        "# (L2 * -2/5) + L3 --- L3\r\n",
        "B5 = add_row(B4, 1, 2, 1)\r\n",
        "print(B5)"
      ],
      "execution_count": null,
      "outputs": [
        {
          "output_type": "stream",
          "text": [
            "[[ 1.  -3.   1.   1. ]\n",
            " [ 0.  -2.   0.8 -0.8]\n",
            " [ 0.   0.  -0.2 -0.8]]\n"
          ],
          "name": "stdout"
        }
      ]
    },
    {
      "cell_type": "code",
      "metadata": {
        "colab": {
          "base_uri": "https://localhost:8080/"
        },
        "id": "62SfXXC2SlUF",
        "outputId": "dfde8ae9-ac59-4153-eeb2-4b83071ea344"
      },
      "source": [
        "# Regresamos a la L2 y ahora tenemos la nueva L3\r\n",
        "B6 = np.array([[1,-3,1,1], [0,5,-2,2], [0,0,-.2,-.8]])\r\n",
        "print(B6)"
      ],
      "execution_count": null,
      "outputs": [
        {
          "output_type": "stream",
          "text": [
            "[[ 1.  -3.   1.   1. ]\n",
            " [ 0.   5.  -2.   2. ]\n",
            " [ 0.   0.  -0.2 -0.8]]\n"
          ],
          "name": "stdout"
        }
      ]
    },
    {
      "cell_type": "markdown",
      "metadata": {
        "id": "fca_TgumS5EF"
      },
      "source": [
        "A partir de esta matriz averiguamos que (-.2)z = -.8 por lo que **z = 4**. \\\\\r\n",
        "Como z = 4, la sustituimos en 5y - 2z = 2, entonces **y = 2**.\r\n",
        "Por último, tenemos los valores de \"y\" y \"z\", las sustituimos en x -3y + z = 1 y da que **x = 3**."
      ]
    },
    {
      "cell_type": "markdown",
      "metadata": {
        "id": "9C32F07sXWi2"
      },
      "source": [
        "### Función scipy.linalg.solve()"
      ]
    },
    {
      "cell_type": "code",
      "metadata": {
        "colab": {
          "base_uri": "https://localhost:8080/"
        },
        "id": "bEAiU3EaX7HC",
        "outputId": "5412ae9c-43f6-4035-ed4c-7e07bfb8d486"
      },
      "source": [
        "Bf = np.array([[1,-3,1], [3,-4,1], [0,2,-1]])\r\n",
        "print(Bf)"
      ],
      "execution_count": null,
      "outputs": [
        {
          "output_type": "stream",
          "text": [
            "[[ 1 -3  1]\n",
            " [ 3 -4  1]\n",
            " [ 0  2 -1]]\n"
          ],
          "name": "stdout"
        }
      ]
    },
    {
      "cell_type": "code",
      "metadata": {
        "colab": {
          "base_uri": "https://localhost:8080/"
        },
        "id": "_sHa8H7UWjX7",
        "outputId": "af532bef-9c90-44b5-8377-6c3334fcb923"
      },
      "source": [
        "m = np.array([[1], [5], [0]])\r\n",
        "print(m)"
      ],
      "execution_count": null,
      "outputs": [
        {
          "output_type": "stream",
          "text": [
            "[[1]\n",
            " [5]\n",
            " [0]]\n"
          ],
          "name": "stdout"
        }
      ]
    },
    {
      "cell_type": "code",
      "metadata": {
        "colab": {
          "base_uri": "https://localhost:8080/"
        },
        "id": "XYNL7mkdUbba",
        "outputId": "ab4fc059-429a-4784-d8ca-a1afd247d360"
      },
      "source": [
        "# Resolviendo el sistema de ecuaciones usando scipy.linalg.solve\r\n",
        "x_sol = la.solve(Bf, m)\r\n",
        "print(x_sol)"
      ],
      "execution_count": null,
      "outputs": [
        {
          "output_type": "stream",
          "text": [
            "[[3.]\n",
            " [2.]\n",
            " [4.]]\n"
          ],
          "name": "stdout"
        }
      ]
    },
    {
      "cell_type": "markdown",
      "metadata": {
        "id": "w3KcX6L1Zfrv"
      },
      "source": [
        "## $\\text{Ejercicio 4}$"
      ]
    },
    {
      "cell_type": "markdown",
      "metadata": {
        "id": "DUBEELs2aKgn"
      },
      "source": [
        "Dadas las siguientes matrices $B_1, B_2$ y $B_3$\r\n",
        "\r\n",
        "(Ejemplos del artículo de Wikipedia sobre [Eigenvalores y Eigenvectores](https://en.wikipedia.org/wiki/Eigenvalues_and_eigenvectors#Matrix_examples)) \r\n",
        "\r\n",
        "\r\n",
        "\\begin{equation*}\r\n",
        "B_1 = \\begin{bmatrix}\r\n",
        "2 & 0 & 0 \\\\\r\n",
        "0 & 3 & 4 \\\\\r\n",
        "0 & 4 & 9 \\\\\r\n",
        "\\end{bmatrix}\r\n",
        "\\end{equation*}\r\n",
        "\r\n",
        "\\begin{equation*}\r\n",
        "B_2 = \\begin{bmatrix}\r\n",
        "0 & 1 & 0 \\\\\r\n",
        "0 & 0 & 1 \\\\\r\n",
        "1 & 0 & 0 \\\\\r\n",
        "\\end{bmatrix}\r\n",
        "\\end{equation*}\r\n",
        "\r\n",
        "\\begin{equation*}\r\n",
        "B_3 = \\begin{bmatrix}\r\n",
        "2 & 0 & 0 & 0\\\\\r\n",
        "1 & 2 & 0 & 0 \\\\\r\n",
        "0 & 1 & 3 & 0 \\\\\r\n",
        "0 & 0 & 1 & 3 \\\\\r\n",
        "\\end{bmatrix}\r\n",
        "\\end{equation*}\r\n",
        "\r\n",
        "Encuentra los eigenvalores y eigenvectores de cada matriz utilizando la función de *scipy.linalg.eig()*, y contrasta tus resultados en cada caso con los que se desarrollan en los ejemplos de la Wikipedia. "
      ]
    },
    {
      "cell_type": "code",
      "metadata": {
        "colab": {
          "base_uri": "https://localhost:8080/"
        },
        "id": "OtIU6uaNZq5e",
        "outputId": "86170980-0ef1-4fd6-a983-d84732cc64f9"
      },
      "source": [
        "A1 = np.array([[2,0,0],[0,3,4],[0,4,9]])\r\n",
        "print(A1)"
      ],
      "execution_count": null,
      "outputs": [
        {
          "output_type": "stream",
          "text": [
            "[[2 0 0]\n",
            " [0 3 4]\n",
            " [0 4 9]]\n"
          ],
          "name": "stdout"
        }
      ]
    },
    {
      "cell_type": "code",
      "metadata": {
        "colab": {
          "base_uri": "https://localhost:8080/"
        },
        "id": "0YKVa4ukbs04",
        "outputId": "0c99c54e-244f-4f79-e63f-f19fe5a39541"
      },
      "source": [
        "# Aplicamos la biblioteca scipy.linalg.eig()\r\n",
        "eigvals, eigvecs = la.eig(A1)\r\n",
        "print('Eigenvalores:', eigvals)\r\n",
        "print('Eigenvectores:', eigvecs)"
      ],
      "execution_count": null,
      "outputs": [
        {
          "output_type": "stream",
          "text": [
            "Eigenvalores: [11.+0.j  1.+0.j  2.+0.j]\n",
            "Eigenvectores: [[ 0.          0.          1.        ]\n",
            " [ 0.4472136   0.89442719  0.        ]\n",
            " [ 0.89442719 -0.4472136   0.        ]]\n"
          ],
          "name": "stdout"
        }
      ]
    },
    {
      "cell_type": "markdown",
      "metadata": {
        "id": "PhTGq4UEspYh"
      },
      "source": [
        "Contrastando con los resultados de wikipedia, los eigenvalores fueron correctos y solo el eigenvector (0,0,1) dio igual. En los otros en vez de 2 dio .4472 y en vez de 1 dio .8944, en wikipedia dice que los eigen vectores son (0,0,1), (1,-2,0) y (2,1,0)."
      ]
    },
    {
      "cell_type": "code",
      "metadata": {
        "colab": {
          "base_uri": "https://localhost:8080/"
        },
        "id": "CysT27OMcmy8",
        "outputId": "505ead1c-b177-4496-d8c9-044e23c169c5"
      },
      "source": [
        "A2 = np.array([[0,1,0],[0,0,1],[1,0,0]])\r\n",
        "print(A2)"
      ],
      "execution_count": null,
      "outputs": [
        {
          "output_type": "stream",
          "text": [
            "[[0 1 0]\n",
            " [0 0 1]\n",
            " [1 0 0]]\n"
          ],
          "name": "stdout"
        }
      ]
    },
    {
      "cell_type": "code",
      "metadata": {
        "id": "wyXeA7W1cv-T",
        "colab": {
          "base_uri": "https://localhost:8080/"
        },
        "outputId": "a14fb01c-6a54-436e-b05e-ffcf8b8acf21"
      },
      "source": [
        "# Aplicamos la biblioteca scipy.linalg.eig()\r\n",
        "eigvals, eigvecs = la.eig(A2)\r\n",
        "print('Eigenvalores:', eigvals)\r\n",
        "print('Eigenvectores:', eigvecs)"
      ],
      "execution_count": null,
      "outputs": [
        {
          "output_type": "stream",
          "text": [
            "Eigenvalores: [-0.5+0.8660254j -0.5-0.8660254j  1. +0.j       ]\n",
            "Eigenvectores: [[ 0.57735027+0.j   0.57735027-0.j  -0.57735027+0.j ]\n",
            " [-0.28867513+0.5j -0.28867513-0.5j -0.57735027+0.j ]\n",
            " [-0.28867513-0.5j -0.28867513+0.5j -0.57735027+0.j ]]\n"
          ],
          "name": "stdout"
        }
      ]
    },
    {
      "cell_type": "markdown",
      "metadata": {
        "id": "0bcFEtztt0yN"
      },
      "source": [
        "En este caso los eigenvalores también fueron correctos, y para los eigenvectores, con el eigenvalor 1 cualquier vector con 3 digitos iguales que no sean ceros es un eigenvector. Pero para los otros con números complejos dieron resultados diferentes. "
      ]
    },
    {
      "cell_type": "code",
      "metadata": {
        "colab": {
          "base_uri": "https://localhost:8080/"
        },
        "id": "3mwycTl4vZ9D",
        "outputId": "94f11f7c-bd03-4420-e03d-91899ec41c58"
      },
      "source": [
        "A3 = np.array([[2,0,0,0],[1,2,0,0],[0,1,3,0],[0,0,1,3]])\r\n",
        "print(A3)"
      ],
      "execution_count": 3,
      "outputs": [
        {
          "output_type": "stream",
          "text": [
            "[[2 0 0 0]\n",
            " [1 2 0 0]\n",
            " [0 1 3 0]\n",
            " [0 0 1 3]]\n"
          ],
          "name": "stdout"
        }
      ]
    },
    {
      "cell_type": "code",
      "metadata": {
        "colab": {
          "base_uri": "https://localhost:8080/"
        },
        "id": "miLesbzbwJlf",
        "outputId": "33206394-c90c-4333-b2de-d66fdd3d24f9"
      },
      "source": [
        "# Aplicamos la biblioteca scipy.linalg.eig()\r\n",
        "eigvals, eigvecs = la.eig(A3)\r\n",
        "print('Eigenvalores:', eigvals)\r\n",
        "print('Eigenvectores:', eigvecs)"
      ],
      "execution_count": 4,
      "outputs": [
        {
          "output_type": "stream",
          "text": [
            "Eigenvalores: [3.+0.j 3.+0.j 2.+0.j 2.+0.j]\n",
            "Eigenvectores: [[ 0.00000000e+00  0.00000000e+00  0.00000000e+00  2.56395025e-16]\n",
            " [ 0.00000000e+00  0.00000000e+00  5.77350269e-01 -5.77350269e-01]\n",
            " [ 0.00000000e+00  6.66133815e-16 -5.77350269e-01  5.77350269e-01]\n",
            " [ 1.00000000e+00 -1.00000000e+00  5.77350269e-01 -5.77350269e-01]]\n"
          ],
          "name": "stdout"
        }
      ]
    },
    {
      "cell_type": "markdown",
      "metadata": {
        "id": "JB_EWbwZwn-R"
      },
      "source": [
        "Los eigenvalores son 2 y 3, y para los eigenvectores dieron diferentes."
      ]
    },
    {
      "cell_type": "markdown",
      "metadata": {
        "id": "s1FJ02qZxu2s"
      },
      "source": [
        "## $\\text{Ejercicio 5}$"
      ]
    },
    {
      "cell_type": "markdown",
      "metadata": {
        "id": "ADya-WkeywOJ"
      },
      "source": [
        "Se tienen los siguientes 8 puntos: \r\n",
        "\r\n",
        "\\begin{eqnarray*} \r\n",
        "(x&,&y) \\\\\r\n",
        "(0.0 &,& 0.0), \\\\ \r\n",
        "(0.5 &,& 0.47942), \\\\ \r\n",
        "(1.0 &,& 0.84147), \\\\\r\n",
        "(1.5 &,& 0.99749), \\\\\r\n",
        "(2.0 &,& 0.90930), \\\\\r\n",
        "(2.5 &,& 0.59847), \\\\\r\n",
        "(3.0 &,& 0.14112), \\\\\r\n",
        "(3.5 &,& -0.35078) \\\\\r\n",
        "\\end{eqnarray*}\r\n",
        "\r\n",
        "Encuentre un polinomio interpolante $p(x)$ que pase por los 8 puntos. \r\n",
        "\r\n",
        "Sobreponga la función $y=\\sin(x)$ y contrástela con el polinomio $p(x)$."
      ]
    },
    {
      "cell_type": "code",
      "metadata": {
        "colab": {
          "base_uri": "https://localhost:8080/",
          "height": 406
        },
        "id": "k8DRFhh82ZU_",
        "outputId": "5fdfd0ca-6bb9-4220-a384-ecf5484ca585"
      },
      "source": [
        "coor = np.array([[0,0],[.5,0.47942],[1,0.84147],[1.5,0.99749],[2,0.90930],[2.5,0.59847],[3,0.14112],[3.5,-.35078]])\r\n",
        "\r\n",
        "x = coor[ :,1]\r\n",
        "y = coor[ :,0]\r\n",
        "\r\n",
        "print(coor)\r\n",
        "\r\n",
        "plt.plot(y,x,'r.') \r\n",
        "plt.grid()\r\n",
        "plt.show()"
      ],
      "execution_count": 56,
      "outputs": [
        {
          "output_type": "stream",
          "text": [
            "[[ 0.       0.     ]\n",
            " [ 0.5      0.47942]\n",
            " [ 1.       0.84147]\n",
            " [ 1.5      0.99749]\n",
            " [ 2.       0.9093 ]\n",
            " [ 2.5      0.59847]\n",
            " [ 3.       0.14112]\n",
            " [ 3.5     -0.35078]]\n"
          ],
          "name": "stdout"
        },
        {
          "output_type": "display_data",
          "data": {
            "image/png": "[encoded data removed]",
            "text/plain": [
              "<Figure size 432x288 with 1 Axes>"
            ]
          },
          "metadata": {
            "tags": [],
            "needs_background": "light"
          }
        }
      ]
    },
    {
      "cell_type": "code",
      "metadata": {
        "colab": {
          "base_uri": "https://localhost:8080/"
        },
        "id": "FReIq3Dv9FmA",
        "outputId": "8bbd7e8f-292b-402a-ae76-7efdcd127cb6"
      },
      "source": [
        "# La biblioteca Numpy tambien tiene una función para crear la matriz de Vandermonde\r\n",
        "x = coor[ :, 0 ]\r\n",
        "X = np.vander(x,increasing=True)\r\n",
        "# Sólo imprimimos los primeros 8 renglones y columnas.\r\n",
        "print(X[:8,:8])"
      ],
      "execution_count": 64,
      "outputs": [
        {
          "output_type": "stream",
          "text": [
            "[[1.00000000e+00 0.00000000e+00 0.00000000e+00 0.00000000e+00\n",
            "  0.00000000e+00 0.00000000e+00 0.00000000e+00 0.00000000e+00]\n",
            " [1.00000000e+00 5.00000000e-01 2.50000000e-01 1.25000000e-01\n",
            "  6.25000000e-02 3.12500000e-02 1.56250000e-02 7.81250000e-03]\n",
            " [1.00000000e+00 1.00000000e+00 1.00000000e+00 1.00000000e+00\n",
            "  1.00000000e+00 1.00000000e+00 1.00000000e+00 1.00000000e+00]\n",
            " [1.00000000e+00 1.50000000e+00 2.25000000e+00 3.37500000e+00\n",
            "  5.06250000e+00 7.59375000e+00 1.13906250e+01 1.70859375e+01]\n",
            " [1.00000000e+00 2.00000000e+00 4.00000000e+00 8.00000000e+00\n",
            "  1.60000000e+01 3.20000000e+01 6.40000000e+01 1.28000000e+02]\n",
            " [1.00000000e+00 2.50000000e+00 6.25000000e+00 1.56250000e+01\n",
            "  3.90625000e+01 9.76562500e+01 2.44140625e+02 6.10351562e+02]\n",
            " [1.00000000e+00 3.00000000e+00 9.00000000e+00 2.70000000e+01\n",
            "  8.10000000e+01 2.43000000e+02 7.29000000e+02 2.18700000e+03]\n",
            " [1.00000000e+00 3.50000000e+00 1.22500000e+01 4.28750000e+01\n",
            "  1.50062500e+02 5.25218750e+02 1.83826562e+03 6.43392969e+03]]\n"
          ],
          "name": "stdout"
        }
      ]
    },
    {
      "cell_type": "code",
      "metadata": {
        "colab": {
          "base_uri": "https://localhost:8080/"
        },
        "id": "nS8979eQEve0",
        "outputId": "c7b5dd85-63c6-443f-e62a-d92a59ffcdd5"
      },
      "source": [
        "# Vector y\r\n",
        "y = coor[ :,1]\r\n",
        "y = np.array(y).reshape(8,1)\r\n",
        "print(y)"
      ],
      "execution_count": 65,
      "outputs": [
        {
          "output_type": "stream",
          "text": [
            "[[ 0.     ]\n",
            " [ 0.47942]\n",
            " [ 0.84147]\n",
            " [ 0.99749]\n",
            " [ 0.9093 ]\n",
            " [ 0.59847]\n",
            " [ 0.14112]\n",
            " [-0.35078]]\n"
          ],
          "name": "stdout"
        }
      ]
    },
    {
      "cell_type": "code",
      "metadata": {
        "colab": {
          "base_uri": "https://localhost:8080/"
        },
        "id": "qnwcZkc09Zms",
        "outputId": "e2b62701-80ab-45b5-85e1-2d5de854bf85"
      },
      "source": [
        "# Usamos la función de scipy.linalg.solve(), para encontrar los 8 coeficientes\r\n",
        "# de la ecuación lineal Xa=y\r\n",
        "a = la.solve(X,y)\r\n",
        "print(a)"
      ],
      "execution_count": 66,
      "outputs": [
        {
          "output_type": "stream",
          "text": [
            "[[ 0.00000000e+00]\n",
            " [ 1.00067181e+00]\n",
            " [-3.70788889e-03]\n",
            " [-1.58867889e-01]\n",
            " [-8.30222222e-03]\n",
            " [ 1.31964444e-02]\n",
            " [-1.54488889e-03]\n",
            " [ 2.46349206e-05]]\n"
          ],
          "name": "stdout"
        }
      ]
    },
    {
      "cell_type": "code",
      "metadata": {
        "colab": {
          "base_uri": "https://localhost:8080/",
          "height": 294
        },
        "id": "eG5pxo8PAphw",
        "outputId": "5a5baebb-dc3d-485c-9976-06e00463cfac"
      },
      "source": [
        "# Graficamos el polinomio interpolante y los puntos interpolados\r\n",
        "# Los puntos interpolados en rojo ('r.')\r\n",
        "\r\n",
        "xs = np.linspace(0,3.5,200)\r\n",
        "ys = sum([a[k]*xs**k for k in range(0,N)])\r\n",
        "sen = np.sin(x)\r\n",
        "\r\n",
        "plt.plot(x,y,'r.',xs,ys,sen)\r\n",
        "plt.grid()\r\n",
        "\r\n",
        "plt.title('Polinomio interpolante p(x)')\r\n",
        "plt.xlabel('x')\r\n",
        "plt.ylabel('y')\r\n",
        "plt.show()"
      ],
      "execution_count": 82,
      "outputs": [
        {
          "output_type": "display_data",
          "data": {
            "image/png": "[encoded data removed]",
            "text/plain": [
              "<Figure size 432x288 with 1 Axes>"
            ]
          },
          "metadata": {
            "tags": [],
            "needs_background": "light"
          }
        }
      ]
    },
    {
      "cell_type": "markdown",
      "metadata": {
        "id": "pntcZrUkKW2i"
      },
      "source": [
        "## $\\text{Ejercicio 6}$"
      ]
    },
    {
      "cell_type": "markdown",
      "metadata": {
        "id": "ccLh9CPUKnhS"
      },
      "source": [
        "Regrese a su modelo de análisis de series de tiempo. Haga una descomposición de su serie de tiempo de las temperaturas (Tmax y Tmin), y realice una regresión lineal sobre la serie de Tendencia de Temp $(T = a_0 + a_1 t)$. Encuentre si la pendiente es positiva o negativa de la tendencia (signo de $a_1$), es decir si las Temperaturas (Tmax, Tmin) están subiendo o bajando en el periodo analizado.\r\n",
        "\r\n",
        "**NOTA:** Pueden trabajar en sus Notebooks de la Actividad 5 o 6 y hacer el ajuste de regresión lineal allá donde tienen todo cargado en la memoria y luego copiar unas celdas de texto de esa Notebook y agregarlas al final de su Notebook de la Actividad 7. Así no tienen que cargar a la memoria todas las operaciones. \r\n"
      ]
    },
    {
      "cell_type": "code",
      "metadata": {
        "colab": {
          "base_uri": "https://localhost:8080/"
        },
        "id": "eQ6bTkpWKZuB",
        "outputId": "7e88b4b1-6079-4ab9-f590-ec4d6d1d6908"
      },
      "source": [
        "# Tomar la dirección URL del archivo en formato 'raw'\r\n",
        "url = 'https://raw.githubusercontent.com/sebasbrowar/FisicaComputacional1/main/Actividad6/2038.txt'\r\n",
        "\r\n",
        "# Definimos los nombres de las columnas\r\n",
        "# El archivo tiene códigos ASCII extendido (Español), encoding='cp1251' Windows (Europa Occidental)\r\n",
        "# El separador de datos es de uno o más espacios, sep='\\s+'\r\n",
        "# Se brincará los primeros 19 renglones y el último, afirmamos que no nay encabezado\r\n",
        "# Se procesan los datos utilizando Python, engine='python' \r\n",
        "my_cols = ['Fecha', 'Precip', 'Evap', 'Tmax', 'Tmin']\r\n",
        "df_dist = pd.read_csv(url, names=my_cols, encoding='cp1251', sep='\\s+', header=None, skiprows=19, skipfooter=1, engine='python')\r\n",
        "\r\n",
        "# Hacemos una copia de trabajo y preservamos el dataframe original\r\n",
        "df_work0 = df_dist.copy()\r\n",
        "\r\n",
        "# Reemplazamos los textos 'Nulo' por espacio en blanco ''\r\n",
        "str_Nulo = 'Nulo'\r\n",
        "df_work1 = df_work0.replace(to_replace=str_Nulo, value='', regex=True)\r\n",
        "\r\n",
        "# Deseamos convertir los valores de las variables ambientales a núm. flotantes \r\n",
        "cols_list = ['Precip', 'Evap', 'Tmax', 'Tmin']\r\n",
        "for cols in cols_list:\r\n",
        "  df_work1[cols] = pd.to_numeric(df_work1[cols], errors='coerce')\r\n",
        "\r\n",
        "# Volvemos a hacer una pausa y definimos un nuevo dataframe por si hay que regresarse.\r\n",
        "df_work2 = df_work1.copy()\r\n",
        "\r\n",
        "# Pandas tiene la función pd.to_datetime que convierte una cadena en tipo datetime64[ns]\r\n",
        "# Intentamos a ver si Python reconoce el formato en nuestro caso. \r\n",
        "# Agregamos la opción de que el primer dato es el día (dayfirst=True)\r\n",
        "df_work2['Fecha']=pd.to_datetime(df_work2['Fecha'], dayfirst=True).copy()\r\n",
        "\r\n",
        "# Buscamos ahora añadir dos columnas adicionales: df['Año'], df['Mes']\r\n",
        "# Usaremos la función .dt.year y .dt.strftime(%b) para extraer el Año \r\n",
        "# y Mes (Abreviado) de la Fecha\r\n",
        "df_work2['Año'] = df_work2['Fecha'].dt.year\r\n",
        "df_work2['Mes'] = df_work2['Fecha'].dt.strftime('%b')\r\n",
        "\r\n",
        "# Definimos un nuevo DataFrame para el análisis de los datos meteorológicos. \r\n",
        "# Será nuestro nuevo punto de partida.\r\n",
        "df_meteo = df_work2.copy()\r\n",
        "\r\n",
        "#df_meteo.info()\r\n",
        "#print(df_meteo.head())\r\n",
        "#print(df_meteo.tail())\r\n",
        "\r\n",
        "# Hacemos una copia del último DataFrame para realizar nuevas operaciones\r\n",
        "df_meteo_ts = df_meteo.copy()\r\n",
        "# Redefinimos el índice del DataFrame a que sea la variable 'Fecha'\r\n",
        "df_meteo_ts = df_meteo_ts.set_index('Fecha')\r\n",
        "\r\n",
        "# Verificamos\r\n",
        "df_meteo_ts.info()\r\n",
        "#print(df_meteo_ts.head())\r\n",
        "#print(df_meteo_ts.tail())\r\n",
        "\r\n",
        "# Seleccionaremos un conjunto de años de 30 años, creando las colecciones de datos \r\n",
        "df_30 = df_meteo_ts[(df_meteo_ts['Año'] >= 1930) & (df_meteo_ts['Año'] < 1960)]\r\n",
        "df_60 = df_meteo_ts[(df_meteo_ts['Año'] >= 1960) & (df_meteo_ts['Año'] < 1990)]\r\n",
        "df_90 = df_meteo_ts[(df_meteo_ts['Año'] >= 1990) & (df_meteo_ts['Año'] < 2013)]\r\n",
        "\r\n",
        "# Estas 3 colecciones serán nuestras Series de Tiempo (DatFrames) para el análisis"
      ],
      "execution_count": 84,
      "outputs": [
        {
          "output_type": "stream",
          "text": [
            "<class 'pandas.core.frame.DataFrame'>\n",
            "DatetimeIndex: 28868 entries, 1929-01-01 to 2012-12-31\n",
            "Data columns (total 6 columns):\n",
            " #   Column  Non-Null Count  Dtype  \n",
            "---  ------  --------------  -----  \n",
            " 0   Precip  28843 non-null  float64\n",
            " 1   Evap    28117 non-null  float64\n",
            " 2   Tmax    28727 non-null  float64\n",
            " 3   Tmin    28756 non-null  float64\n",
            " 4   Año     28868 non-null  int64  \n",
            " 5   Mes     28868 non-null  object \n",
            "dtypes: float64(4), int64(1), object(1)\n",
            "memory usage: 1.5+ MB\n"
          ],
          "name": "stdout"
        }
      ]
    }
  ]
}