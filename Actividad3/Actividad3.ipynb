{
  "nbformat": 4,
  "nbformat_minor": 0,
  "metadata": {
    "colab": {
      "name": "Actividad3.ipynb",
      "provenance": [],
      "authorship_tag": "ABX9TyPPmqrTSM9CbEuBezMK3Qah",
      "include_colab_link": true
    },
    "kernelspec": {
      "name": "python3",
      "display_name": "Python 3"
    }
  },
  "cells": [
    {
      "cell_type": "markdown",
      "metadata": {
        "id": "view-in-github",
        "colab_type": "text"
      },
      "source": [
        "<a href=\"https://colab.research.google.com/github/sebasbrowar/FisicaComputacional1/blob/main/Actividad3/Actividad3.ipynb\" target=\"_parent\"><img src=\"https://colab.research.google.com/assets/colab-badge.svg\" alt=\"Open In Colab\"/></a>"
      ]
    },
    {
      "cell_type": "markdown",
      "metadata": {
        "id": "b9Ko66jS_Zcw"
      },
      "source": [
        "# ${\\text{Leyendo un archivo de datos a Pandas}}$\r\n",
        "$\\text{Leeremos el archivo de datos meteorológicos de la estación 2038 en Tijuana, Baja California para así poder analizarlos.}$"
      ]
    },
    {
      "cell_type": "code",
      "metadata": {
        "id": "Do20Jl2VkFPs"
      },
      "source": [
        "import numpy as np\r\n",
        "import pandas as pd\r\n",
        "\r\n",
        "# Pandas permite leer archivos csv, Excel y otros formatos\r\n",
        "# Tomar la dirección URL del archivo en formato 'raw'\r\n",
        "url = 'https://raw.githubusercontent.com/sebasbrowar/FisicaComputacional1/main/Actividad3/2038.txt'\r\n",
        "\r\n",
        "# Definimos los nombres de las columnas\r\n",
        "# El archivo tiene códigos ASCII extendido (Español), encoding='cp1251' Windows (Europa Occidental)\r\n",
        "# El separador de datos es de uno o más espacios, sep='\\s+'\r\n",
        "# Se brincará los primeros 19 renglones y el último, afirmamos que no nay encabezado\r\n",
        "# Se procesan los datos utilizando Python, engine='python' \r\n",
        "my_cols = ['Fecha','Precip','Evap','Tmax','Tmin']\r\n",
        "df_dist = pd.read_csv(url, names=my_cols, encoding='cp1251', sep='\\s+', header=None, skiprows=19, skipfooter=1, engine='python')\r\n"
      ],
      "execution_count": 3,
      "outputs": []
    },
    {
      "cell_type": "markdown",
      "metadata": {
        "id": "R0jrdD1Y-1RS"
      },
      "source": [
        "$\\text{Imprime el encabezado y final del dataframe: print(df.head(10)), print(df.tail(10))}$ "
      ]
    },
    {
      "cell_type": "code",
      "metadata": {
        "colab": {
          "base_uri": "https://localhost:8080/"
        },
        "id": "ULOVtv6w7Jqh",
        "outputId": "7b6c1641-9980-49f6-f14f-082774d50a6d"
      },
      "source": [
        "# revisamos el encabezado y el final del dataframe\r\n",
        "print(df_dist.head(10))\r\n",
        "print(df_dist.tail(10))"
      ],
      "execution_count": 4,
      "outputs": [
        {
          "output_type": "stream",
          "text": [
            "        Fecha Precip Evap  Tmax  Tmin\n",
            "0  01/01/1929      0   11  Nulo  Nulo\n",
            "1  02/01/1929      0    5  23.5     8\n",
            "2  03/01/1929      0    1    19     4\n",
            "3  04/01/1929      0    3  18.5   6.5\n",
            "4  05/01/1929      0    4    20     2\n",
            "5  06/01/1929      0    3  22.5     5\n",
            "6  07/01/1929      0    3  15.5     6\n",
            "7  08/01/1929      0    2    19     5\n",
            "8  09/01/1929      0    2  15.5     5\n",
            "9  10/01/1929      0    3  21.5     1\n",
            "            Fecha Precip Evap Tmax Tmin\n",
            "28858  22/12/2012      0  2.5   18    5\n",
            "28859  23/12/2012      0  0.4   18    5\n",
            "28860  24/12/2012      0  2.8   19    6\n",
            "28861  25/12/2012      0  0.2   19    6\n",
            "28862  26/12/2012    0.5  0.1   17    6\n",
            "28863  27/12/2012      0  0.4   17    9\n",
            "28864  28/12/2012      0  2.7   21    5\n",
            "28865  29/12/2012    3.1  1.3   17    5\n",
            "28866  30/12/2012    5.6    2   13    6\n",
            "28867  31/12/2012      0  0.2   18    5\n"
          ],
          "name": "stdout"
        }
      ]
    },
    {
      "cell_type": "markdown",
      "metadata": {
        "id": "e_BPE1Ce_zgl"
      },
      "source": [
        "$\\text{¿Qué dimensiones tiene tu dataframe?: df.shape}$"
      ]
    },
    {
      "cell_type": "code",
      "metadata": {
        "colab": {
          "base_uri": "https://localhost:8080/"
        },
        "id": "TOD7NGK67Llk",
        "outputId": "2d9bedcb-96dc-4384-8465-f39126732ec2"
      },
      "source": [
        "# investigamos su tamaño con la función shape(renglones, columnas)\r\n",
        "df_dist.shape"
      ],
      "execution_count": 5,
      "outputs": [
        {
          "output_type": "execute_result",
          "data": {
            "text/plain": [
              "(28868, 5)"
            ]
          },
          "metadata": {
            "tags": []
          },
          "execution_count": 5
        }
      ]
    },
    {
      "cell_type": "markdown",
      "metadata": {
        "id": "BPj9GsXJAYW5"
      },
      "source": [
        "$\\text{¿Cómo es el contenido de tu dataframe?: df.info()}$"
      ]
    },
    {
      "cell_type": "code",
      "metadata": {
        "colab": {
          "base_uri": "https://localhost:8080/"
        },
        "id": "CgDr86Pv7Rh-",
        "outputId": "43cb55d2-4012-433d-c6af-cb7068b87481"
      },
      "source": [
        "# información del dataframe\r\n",
        "df_dist.info()"
      ],
      "execution_count": 6,
      "outputs": [
        {
          "output_type": "stream",
          "text": [
            "<class 'pandas.core.frame.DataFrame'>\n",
            "RangeIndex: 28868 entries, 0 to 28867\n",
            "Data columns (total 5 columns):\n",
            " #   Column  Non-Null Count  Dtype \n",
            "---  ------  --------------  ----- \n",
            " 0   Fecha   28868 non-null  object\n",
            " 1   Precip  28868 non-null  object\n",
            " 2   Evap    28868 non-null  object\n",
            " 3   Tmax    28868 non-null  object\n",
            " 4   Tmin    28868 non-null  object\n",
            "dtypes: object(5)\n",
            "memory usage: 1.1+ MB\n"
          ],
          "name": "stdout"
        }
      ]
    },
    {
      "cell_type": "markdown",
      "metadata": {
        "id": "C4LTG_QkAlF9"
      },
      "source": [
        "$\\text{Hacemos una copia para quedarnos con el dataframe original}$"
      ]
    },
    {
      "cell_type": "code",
      "metadata": {
        "colab": {
          "base_uri": "https://localhost:8080/",
          "height": 204
        },
        "id": "VKuGpOLE7To0",
        "outputId": "592b761b-02f1-4d61-d6a9-1c8832b15a04"
      },
      "source": [
        "# hacemos una copia de trabajo y preservamos el dataframe original\r\n",
        "df_work0 = df_dist.copy()\r\n",
        "df_work0.head()"
      ],
      "execution_count": 7,
      "outputs": [
        {
          "output_type": "execute_result",
          "data": {
            "text/html": [
              "<div>\n",
              "<style scoped>\n",
              "    .dataframe tbody tr th:only-of-type {\n",
              "        vertical-align: middle;\n",
              "    }\n",
              "\n",
              "    .dataframe tbody tr th {\n",
              "        vertical-align: top;\n",
              "    }\n",
              "\n",
              "    .dataframe thead th {\n",
              "        text-align: right;\n",
              "    }\n",
              "</style>\n",
              "<table border=\"1\" class=\"dataframe\">\n",
              "  <thead>\n",
              "    <tr style=\"text-align: right;\">\n",
              "      <th></th>\n",
              "      <th>Fecha</th>\n",
              "      <th>Precip</th>\n",
              "      <th>Evap</th>\n",
              "      <th>Tmax</th>\n",
              "      <th>Tmin</th>\n",
              "    </tr>\n",
              "  </thead>\n",
              "  <tbody>\n",
              "    <tr>\n",
              "      <th>0</th>\n",
              "      <td>01/01/1929</td>\n",
              "      <td>0</td>\n",
              "      <td>11</td>\n",
              "      <td>Nulo</td>\n",
              "      <td>Nulo</td>\n",
              "    </tr>\n",
              "    <tr>\n",
              "      <th>1</th>\n",
              "      <td>02/01/1929</td>\n",
              "      <td>0</td>\n",
              "      <td>5</td>\n",
              "      <td>23.5</td>\n",
              "      <td>8</td>\n",
              "    </tr>\n",
              "    <tr>\n",
              "      <th>2</th>\n",
              "      <td>03/01/1929</td>\n",
              "      <td>0</td>\n",
              "      <td>1</td>\n",
              "      <td>19</td>\n",
              "      <td>4</td>\n",
              "    </tr>\n",
              "    <tr>\n",
              "      <th>3</th>\n",
              "      <td>04/01/1929</td>\n",
              "      <td>0</td>\n",
              "      <td>3</td>\n",
              "      <td>18.5</td>\n",
              "      <td>6.5</td>\n",
              "    </tr>\n",
              "    <tr>\n",
              "      <th>4</th>\n",
              "      <td>05/01/1929</td>\n",
              "      <td>0</td>\n",
              "      <td>4</td>\n",
              "      <td>20</td>\n",
              "      <td>2</td>\n",
              "    </tr>\n",
              "  </tbody>\n",
              "</table>\n",
              "</div>"
            ],
            "text/plain": [
              "        Fecha Precip Evap  Tmax  Tmin\n",
              "0  01/01/1929      0   11  Nulo  Nulo\n",
              "1  02/01/1929      0    5  23.5     8\n",
              "2  03/01/1929      0    1    19     4\n",
              "3  04/01/1929      0    3  18.5   6.5\n",
              "4  05/01/1929      0    4    20     2"
            ]
          },
          "metadata": {
            "tags": []
          },
          "execution_count": 7
        }
      ]
    },
    {
      "cell_type": "markdown",
      "metadata": {
        "id": "XuXj-BbyAyZI"
      },
      "source": [
        "$\\text{Los datos originales incluyen la cadena de caracteres 'Nulo', indicando que no hubo datos para esa variable, ese día. Tenemos que reemplazar la palabra nulo con la función: df.replace()}$"
      ]
    },
    {
      "cell_type": "code",
      "metadata": {
        "colab": {
          "base_uri": "https://localhost:8080/",
          "height": 204
        },
        "id": "JaMRqLf07Zcp",
        "outputId": "20fe1248-cfdf-43d7-f2d1-3d06b7051ab5"
      },
      "source": [
        "# reemplazamos los textos Nulo por espacio en blanco ''\r\n",
        "str_Nulo = 'Nulo'\r\n",
        "df_work1 = df_work0.replace(to_replace=str_Nulo, value='', regex=True)\r\n",
        "df_work1.head()"
      ],
      "execution_count": 8,
      "outputs": [
        {
          "output_type": "execute_result",
          "data": {
            "text/html": [
              "<div>\n",
              "<style scoped>\n",
              "    .dataframe tbody tr th:only-of-type {\n",
              "        vertical-align: middle;\n",
              "    }\n",
              "\n",
              "    .dataframe tbody tr th {\n",
              "        vertical-align: top;\n",
              "    }\n",
              "\n",
              "    .dataframe thead th {\n",
              "        text-align: right;\n",
              "    }\n",
              "</style>\n",
              "<table border=\"1\" class=\"dataframe\">\n",
              "  <thead>\n",
              "    <tr style=\"text-align: right;\">\n",
              "      <th></th>\n",
              "      <th>Fecha</th>\n",
              "      <th>Precip</th>\n",
              "      <th>Evap</th>\n",
              "      <th>Tmax</th>\n",
              "      <th>Tmin</th>\n",
              "    </tr>\n",
              "  </thead>\n",
              "  <tbody>\n",
              "    <tr>\n",
              "      <th>0</th>\n",
              "      <td>01/01/1929</td>\n",
              "      <td>0</td>\n",
              "      <td>11</td>\n",
              "      <td></td>\n",
              "      <td></td>\n",
              "    </tr>\n",
              "    <tr>\n",
              "      <th>1</th>\n",
              "      <td>02/01/1929</td>\n",
              "      <td>0</td>\n",
              "      <td>5</td>\n",
              "      <td>23.5</td>\n",
              "      <td>8</td>\n",
              "    </tr>\n",
              "    <tr>\n",
              "      <th>2</th>\n",
              "      <td>03/01/1929</td>\n",
              "      <td>0</td>\n",
              "      <td>1</td>\n",
              "      <td>19</td>\n",
              "      <td>4</td>\n",
              "    </tr>\n",
              "    <tr>\n",
              "      <th>3</th>\n",
              "      <td>04/01/1929</td>\n",
              "      <td>0</td>\n",
              "      <td>3</td>\n",
              "      <td>18.5</td>\n",
              "      <td>6.5</td>\n",
              "    </tr>\n",
              "    <tr>\n",
              "      <th>4</th>\n",
              "      <td>05/01/1929</td>\n",
              "      <td>0</td>\n",
              "      <td>4</td>\n",
              "      <td>20</td>\n",
              "      <td>2</td>\n",
              "    </tr>\n",
              "  </tbody>\n",
              "</table>\n",
              "</div>"
            ],
            "text/plain": [
              "        Fecha Precip Evap  Tmax Tmin\n",
              "0  01/01/1929      0   11           \n",
              "1  02/01/1929      0    5  23.5    8\n",
              "2  03/01/1929      0    1    19    4\n",
              "3  04/01/1929      0    3  18.5  6.5\n",
              "4  05/01/1929      0    4    20    2"
            ]
          },
          "metadata": {
            "tags": []
          },
          "execution_count": 8
        }
      ]
    },
    {
      "cell_type": "markdown",
      "metadata": {
        "id": "zfW_5-lVA_S3"
      },
      "source": [
        "$\\text{Vemos la información recién actualizada}$"
      ]
    },
    {
      "cell_type": "code",
      "metadata": {
        "colab": {
          "base_uri": "https://localhost:8080/"
        },
        "id": "WXXzoqRt7eUg",
        "outputId": "fd4a0709-7b69-474c-f2a4-4de2ba4a94cc"
      },
      "source": [
        "# imprimimos la información actualizada del dataframe\r\n",
        "df_work1.info() # vemos que la info sigue igual, seguidamente convertiremos a número flotante unos datos, por ahora todos son objetos\r\n",
        "print(df_work1.head())"
      ],
      "execution_count": 9,
      "outputs": [
        {
          "output_type": "stream",
          "text": [
            "<class 'pandas.core.frame.DataFrame'>\n",
            "RangeIndex: 28868 entries, 0 to 28867\n",
            "Data columns (total 5 columns):\n",
            " #   Column  Non-Null Count  Dtype \n",
            "---  ------  --------------  ----- \n",
            " 0   Fecha   28868 non-null  object\n",
            " 1   Precip  28868 non-null  object\n",
            " 2   Evap    28868 non-null  object\n",
            " 3   Tmax    28868 non-null  object\n",
            " 4   Tmin    28868 non-null  object\n",
            "dtypes: object(5)\n",
            "memory usage: 1.1+ MB\n",
            "        Fecha Precip Evap  Tmax Tmin\n",
            "0  01/01/1929      0   11           \n",
            "1  02/01/1929      0    5  23.5    8\n",
            "2  03/01/1929      0    1    19    4\n",
            "3  04/01/1929      0    3  18.5  6.5\n",
            "4  05/01/1929      0    4    20    2\n"
          ],
          "name": "stdout"
        }
      ]
    },
    {
      "cell_type": "markdown",
      "metadata": {
        "id": "fZlXlI57EWeT"
      },
      "source": [
        "$\\text{Después habrá que convertir a número flotante o numérico los datos de Precipitación, Evaporación, Temperatura Máxima y Temperatura mínima utilizando la función: df.to_numeric()}$"
      ]
    },
    {
      "cell_type": "code",
      "metadata": {
        "id": "UbCWgCep7fMf"
      },
      "source": [
        "# deseamos convertir los valores de las variables ambientales a núm. flotantes \r\n",
        "cols_list = ['Precip','Evap','Tmax','Tmin']\r\n",
        "for cols in cols_list:\r\n",
        "  df_work1[cols] = pd.to_numeric(df_work1[cols], errors='coerce')"
      ],
      "execution_count": 10,
      "outputs": []
    },
    {
      "cell_type": "markdown",
      "metadata": {
        "id": "p1zgyo90F5p0"
      },
      "source": [
        "$\\text{Contrasta ahora la información de tu DataFrame con la función: df.info()}$"
      ]
    },
    {
      "cell_type": "code",
      "metadata": {
        "colab": {
          "base_uri": "https://localhost:8080/"
        },
        "id": "hpqpwI1bF6ZX",
        "outputId": "a6e9e8be-c606-4beb-ba3f-da0cc65d0126"
      },
      "source": [
        "df_work1.info() # ahora todos son flotantes excepto Fecha"
      ],
      "execution_count": 11,
      "outputs": [
        {
          "output_type": "stream",
          "text": [
            "<class 'pandas.core.frame.DataFrame'>\n",
            "RangeIndex: 28868 entries, 0 to 28867\n",
            "Data columns (total 5 columns):\n",
            " #   Column  Non-Null Count  Dtype  \n",
            "---  ------  --------------  -----  \n",
            " 0   Fecha   28868 non-null  object \n",
            " 1   Precip  28843 non-null  float64\n",
            " 2   Evap    28117 non-null  float64\n",
            " 3   Tmax    28727 non-null  float64\n",
            " 4   Tmin    28756 non-null  float64\n",
            "dtypes: float64(4), object(1)\n",
            "memory usage: 1.1+ MB\n"
          ],
          "name": "stdout"
        }
      ]
    },
    {
      "cell_type": "markdown",
      "metadata": {
        "id": "q6eht5RLGlvN"
      },
      "source": [
        "$\\text{Se puede contabilizar el número de datos faltantes en esas variables mediante la función: df.isnull().sum()}$"
      ]
    },
    {
      "cell_type": "code",
      "metadata": {
        "colab": {
          "base_uri": "https://localhost:8080/"
        },
        "id": "FSA83H957g70",
        "outputId": "8642c7c3-effc-4ac1-ca15-9806a4eb69a8"
      },
      "source": [
        "# de la instruccion anterior, vemos que hay valores faltantes. sumamos los valores nulos\r\n",
        "df_work1.isnull().sum()"
      ],
      "execution_count": 12,
      "outputs": [
        {
          "output_type": "execute_result",
          "data": {
            "text/plain": [
              "Fecha       0\n",
              "Precip     25\n",
              "Evap      751\n",
              "Tmax      141\n",
              "Tmin      112\n",
              "dtype: int64"
            ]
          },
          "metadata": {
            "tags": []
          },
          "execution_count": 12
        }
      ]
    },
    {
      "cell_type": "markdown",
      "metadata": {
        "id": "cx_XFXbOG4ki"
      },
      "source": [
        "$\\text{Imprime de nuevo el encabezado y final de tu dataframe, con las funciones df.head() y df.tail()}$"
      ]
    },
    {
      "cell_type": "code",
      "metadata": {
        "colab": {
          "base_uri": "https://localhost:8080/"
        },
        "id": "fk8SFDmH7tPg",
        "outputId": "b89578c5-cbb5-4c2e-838a-11b1c8388f01"
      },
      "source": [
        "print(df_work1.head())\r\n",
        "print(df_work1.head())"
      ],
      "execution_count": 13,
      "outputs": [
        {
          "output_type": "stream",
          "text": [
            "        Fecha  Precip  Evap  Tmax  Tmin\n",
            "0  01/01/1929     0.0  11.0   NaN   NaN\n",
            "1  02/01/1929     0.0   5.0  23.5   8.0\n",
            "2  03/01/1929     0.0   1.0  19.0   4.0\n",
            "3  04/01/1929     0.0   3.0  18.5   6.5\n",
            "4  05/01/1929     0.0   4.0  20.0   2.0\n",
            "        Fecha  Precip  Evap  Tmax  Tmin\n",
            "0  01/01/1929     0.0  11.0   NaN   NaN\n",
            "1  02/01/1929     0.0   5.0  23.5   8.0\n",
            "2  03/01/1929     0.0   1.0  19.0   4.0\n",
            "3  04/01/1929     0.0   3.0  18.5   6.5\n",
            "4  05/01/1929     0.0   4.0  20.0   2.0\n"
          ],
          "name": "stdout"
        }
      ]
    },
    {
      "cell_type": "markdown",
      "metadata": {
        "id": "dtT8qZskHGPf"
      },
      "source": [
        "$\\text{Realiza una estadística básica de las variables numéricas de tu dataframe usando la función: df.describe() y haz una interpretación de los resultados, para ver si tienen sentido}$ \\\\\r\n",
        "$\\text{físico (por ej. valores negativos de precipitación, valores extremos fuera de lo normal, etc)}$"
      ]
    },
    {
      "cell_type": "code",
      "metadata": {
        "colab": {
          "base_uri": "https://localhost:8080/",
          "height": 297
        },
        "id": "Kynqo9iI776e",
        "outputId": "2f841410-f34b-4f79-bca2-32cf4d7a45c5"
      },
      "source": [
        "# un analisis estadístico breve de las variables numéricas redondeado a 2 cifras significativas\r\n",
        "df_work1.describe().round(2)"
      ],
      "execution_count": 14,
      "outputs": [
        {
          "output_type": "execute_result",
          "data": {
            "text/html": [
              "<div>\n",
              "<style scoped>\n",
              "    .dataframe tbody tr th:only-of-type {\n",
              "        vertical-align: middle;\n",
              "    }\n",
              "\n",
              "    .dataframe tbody tr th {\n",
              "        vertical-align: top;\n",
              "    }\n",
              "\n",
              "    .dataframe thead th {\n",
              "        text-align: right;\n",
              "    }\n",
              "</style>\n",
              "<table border=\"1\" class=\"dataframe\">\n",
              "  <thead>\n",
              "    <tr style=\"text-align: right;\">\n",
              "      <th></th>\n",
              "      <th>Precip</th>\n",
              "      <th>Evap</th>\n",
              "      <th>Tmax</th>\n",
              "      <th>Tmin</th>\n",
              "    </tr>\n",
              "  </thead>\n",
              "  <tbody>\n",
              "    <tr>\n",
              "      <th>count</th>\n",
              "      <td>28843.00</td>\n",
              "      <td>28117.00</td>\n",
              "      <td>28727.00</td>\n",
              "      <td>28756.00</td>\n",
              "    </tr>\n",
              "    <tr>\n",
              "      <th>mean</th>\n",
              "      <td>0.59</td>\n",
              "      <td>4.63</td>\n",
              "      <td>23.99</td>\n",
              "      <td>11.75</td>\n",
              "    </tr>\n",
              "    <tr>\n",
              "      <th>std</th>\n",
              "      <td>3.31</td>\n",
              "      <td>2.47</td>\n",
              "      <td>5.27</td>\n",
              "      <td>4.38</td>\n",
              "    </tr>\n",
              "    <tr>\n",
              "      <th>min</th>\n",
              "      <td>0.00</td>\n",
              "      <td>0.00</td>\n",
              "      <td>6.40</td>\n",
              "      <td>-6.00</td>\n",
              "    </tr>\n",
              "    <tr>\n",
              "      <th>25%</th>\n",
              "      <td>0.00</td>\n",
              "      <td>2.70</td>\n",
              "      <td>20.00</td>\n",
              "      <td>8.50</td>\n",
              "    </tr>\n",
              "    <tr>\n",
              "      <th>50%</th>\n",
              "      <td>0.00</td>\n",
              "      <td>4.60</td>\n",
              "      <td>24.00</td>\n",
              "      <td>12.00</td>\n",
              "    </tr>\n",
              "    <tr>\n",
              "      <th>75%</th>\n",
              "      <td>0.00</td>\n",
              "      <td>6.20</td>\n",
              "      <td>27.60</td>\n",
              "      <td>15.00</td>\n",
              "    </tr>\n",
              "    <tr>\n",
              "      <th>max</th>\n",
              "      <td>90.00</td>\n",
              "      <td>18.00</td>\n",
              "      <td>45.00</td>\n",
              "      <td>30.00</td>\n",
              "    </tr>\n",
              "  </tbody>\n",
              "</table>\n",
              "</div>"
            ],
            "text/plain": [
              "         Precip      Evap      Tmax      Tmin\n",
              "count  28843.00  28117.00  28727.00  28756.00\n",
              "mean       0.59      4.63     23.99     11.75\n",
              "std        3.31      2.47      5.27      4.38\n",
              "min        0.00      0.00      6.40     -6.00\n",
              "25%        0.00      2.70     20.00      8.50\n",
              "50%        0.00      4.60     24.00     12.00\n",
              "75%        0.00      6.20     27.60     15.00\n",
              "max       90.00     18.00     45.00     30.00"
            ]
          },
          "metadata": {
            "tags": []
          },
          "execution_count": 14
        }
      ]
    },
    {
      "cell_type": "markdown",
      "metadata": {
        "id": "Gow1qz4Q-SVU"
      },
      "source": [
        "$\\text{Análisis de la variable Fecha}$"
      ]
    },
    {
      "cell_type": "markdown",
      "metadata": {
        "id": "fGUHH5F3LgOh"
      },
      "source": [
        "$\\text{Comienza haciendo una copia del dataframe del paso anterior, por si se requiere recuperar el nuevo dataframe, utilizando df:new=df.copy()}$"
      ]
    },
    {
      "cell_type": "code",
      "metadata": {
        "colab": {
          "base_uri": "https://localhost:8080/"
        },
        "id": "yabhCFgW9tVy",
        "outputId": "166e074b-3d8e-449f-dbb1-3e848ef05c61"
      },
      "source": [
        "# volvemos a hacer una pausa y definimos un nuevo dataframe por si hay que regresarse.\r\n",
        "df_work2 = df_work1.copy()\r\n",
        "df_work2['Fecha'].head()"
      ],
      "execution_count": 15,
      "outputs": [
        {
          "output_type": "execute_result",
          "data": {
            "text/plain": [
              "0    01/01/1929\n",
              "1    02/01/1929\n",
              "2    03/01/1929\n",
              "3    04/01/1929\n",
              "4    05/01/1929\n",
              "Name: Fecha, dtype: object"
            ]
          },
          "metadata": {
            "tags": []
          },
          "execution_count": 15
        }
      ]
    },
    {
      "cell_type": "markdown",
      "metadata": {
        "id": "IMzTNRHjNceq"
      },
      "source": [
        "$\\text{Utiliza la función de Pandas pd.to_datetime(), para convertir el objeto Fecha a formato de fecha que comprende Python.  Lee el manual de esa función e intenta la conversión. }$"
      ]
    },
    {
      "cell_type": "code",
      "metadata": {
        "colab": {
          "base_uri": "https://localhost:8080/"
        },
        "id": "Re7qhH3r_Mck",
        "outputId": "ae465e91-ab25-4572-892d-3c907f6a7680"
      },
      "source": [
        "# pandas tiene la función pd.to_datetime que convierte una cadena en tipo datetime64[ns]\r\n",
        "# intentamos a ver si Python reconoce el formato en nuestro caso. \r\n",
        "# agregamos la opción de que el primer dato es el día (dayfirst=True)\r\n",
        "df_work2['Fecha']=pd.to_datetime(df_work2['Fecha'], dayfirst=True).copy()\r\n",
        "print(df_work1.head())"
      ],
      "execution_count": 16,
      "outputs": [
        {
          "output_type": "stream",
          "text": [
            "        Fecha  Precip  Evap  Tmax  Tmin\n",
            "0  01/01/1929     0.0  11.0   NaN   NaN\n",
            "1  02/01/1929     0.0   5.0  23.5   8.0\n",
            "2  03/01/1929     0.0   1.0  19.0   4.0\n",
            "3  04/01/1929     0.0   3.0  18.5   6.5\n",
            "4  05/01/1929     0.0   4.0  20.0   2.0\n"
          ],
          "name": "stdout"
        }
      ]
    },
    {
      "cell_type": "markdown",
      "metadata": {
        "id": "11dlNy4RQgZF"
      },
      "source": [
        "$\\text{Después utiliza la función df.dtypes para verificar que todas las variables son del tipo deseado.}$"
      ]
    },
    {
      "cell_type": "code",
      "metadata": {
        "colab": {
          "base_uri": "https://localhost:8080/"
        },
        "id": "Ibzsetvv88pJ",
        "outputId": "30254855-3274-4bba-cf08-14f001a64cfe"
      },
      "source": [
        "# verificamos que cada variable (columna), sea del tipo que esperamos.\r\n",
        "# observamos que la variable Fecha es de tipo 'datetime64[ns]'  \r\n",
        "df_work2.dtypes"
      ],
      "execution_count": 17,
      "outputs": [
        {
          "output_type": "execute_result",
          "data": {
            "text/plain": [
              "Fecha     datetime64[ns]\n",
              "Precip           float64\n",
              "Evap             float64\n",
              "Tmax             float64\n",
              "Tmin             float64\n",
              "dtype: object"
            ]
          },
          "metadata": {
            "tags": []
          },
          "execution_count": 17
        }
      ]
    },
    {
      "cell_type": "markdown",
      "metadata": {
        "id": "us8v5cvu_7Z5"
      },
      "source": [
        "$\\text{Enseguida con la ayuda de las funciones de Pandas df['Fecha'].dt.year y df['Fecha'].dt.month, crea dos columnas nuevas adicionales df['Año'] y df['Mes'].}$"
      ]
    },
    {
      "cell_type": "code",
      "metadata": {
        "id": "QIqd-Rjf_cGw"
      },
      "source": [
        "# Buscamos ahora añadir dos columnas adicionales: df['Año'], df['Mes']\r\n",
        "# Usaremos la función .dt.year y .dt.month para extraer el Año y Mes de la Fecha\r\n",
        "df_work2['Año'] = df_work2['Fecha'].dt.year\r\n",
        "df_work2['Mes'] = df_work2['Fecha'].dt.month"
      ],
      "execution_count": 19,
      "outputs": []
    },
    {
      "cell_type": "markdown",
      "metadata": {
        "id": "SmhldZD2AQZx"
      },
      "source": [
        "$\\text{Utilizando la función print aplicado a las funciones df.head() y df.tail(), verifica que el dataframe tiene la forma deseada.}$"
      ]
    },
    {
      "cell_type": "code",
      "metadata": {
        "colab": {
          "base_uri": "https://localhost:8080/"
        },
        "id": "XdLgLQ6r_mFp",
        "outputId": "a9da3e05-33b2-431e-fa29-188a1615d15a"
      },
      "source": [
        "# Verificamos que se hayan creado de forma correcta\r\n",
        "# Tendremos ahora dos columnas adicionales que podemos utilizar para filtrar información.\r\n",
        "print(df_work2.head())\r\n",
        "print(df_work2.tail())"
      ],
      "execution_count": 20,
      "outputs": [
        {
          "output_type": "stream",
          "text": [
            "       Fecha  Precip  Evap  Tmax  Tmin   Año  Mes\n",
            "0 1929-01-01     0.0  11.0   NaN   NaN  1929    1\n",
            "1 1929-01-02     0.0   5.0  23.5   8.0  1929    1\n",
            "2 1929-01-03     0.0   1.0  19.0   4.0  1929    1\n",
            "3 1929-01-04     0.0   3.0  18.5   6.5  1929    1\n",
            "4 1929-01-05     0.0   4.0  20.0   2.0  1929    1\n",
            "           Fecha  Precip  Evap  Tmax  Tmin   Año  Mes\n",
            "28863 2012-12-27     0.0   0.4  17.0   9.0  2012   12\n",
            "28864 2012-12-28     0.0   2.7  21.0   5.0  2012   12\n",
            "28865 2012-12-29     3.1   1.3  17.0   5.0  2012   12\n",
            "28866 2012-12-30     5.6   2.0  13.0   6.0  2012   12\n",
            "28867 2012-12-31     0.0   0.2  18.0   5.0  2012   12\n"
          ],
          "name": "stdout"
        }
      ]
    },
    {
      "cell_type": "markdown",
      "metadata": {
        "id": "9lYBwJSFAGGi"
      },
      "source": [
        "$\\text{Complementa con la función df.dtypes, para verificar que todas las variables son del tipo adecuado.  }$"
      ]
    },
    {
      "cell_type": "code",
      "metadata": {
        "colab": {
          "base_uri": "https://localhost:8080/"
        },
        "id": "TOHM7wtkAn2t",
        "outputId": "d134025d-49a9-42f8-b03d-7681a1796850"
      },
      "source": [
        "# verificamos que Año y Mes son variables enteras.\r\n",
        "df_work2.dtypes"
      ],
      "execution_count": 22,
      "outputs": [
        {
          "output_type": "execute_result",
          "data": {
            "text/plain": [
              "Fecha     datetime64[ns]\n",
              "Precip           float64\n",
              "Evap             float64\n",
              "Tmax             float64\n",
              "Tmin             float64\n",
              "Año                int64\n",
              "Mes                int64\n",
              "dtype: object"
            ]
          },
          "metadata": {
            "tags": []
          },
          "execution_count": 22
        }
      ]
    },
    {
      "cell_type": "code",
      "metadata": {
        "colab": {
          "base_uri": "https://localhost:8080/"
        },
        "id": "Up3mKNbrBDSG",
        "outputId": "8ca54f54-006c-497b-aab0-2866f4e48ecd"
      },
      "source": [
        "df_work2.info()"
      ],
      "execution_count": 23,
      "outputs": [
        {
          "output_type": "stream",
          "text": [
            "<class 'pandas.core.frame.DataFrame'>\n",
            "RangeIndex: 28868 entries, 0 to 28867\n",
            "Data columns (total 7 columns):\n",
            " #   Column  Non-Null Count  Dtype         \n",
            "---  ------  --------------  -----         \n",
            " 0   Fecha   28868 non-null  datetime64[ns]\n",
            " 1   Precip  28843 non-null  float64       \n",
            " 2   Evap    28117 non-null  float64       \n",
            " 3   Tmax    28727 non-null  float64       \n",
            " 4   Tmin    28756 non-null  float64       \n",
            " 5   Año     28868 non-null  int64         \n",
            " 6   Mes     28868 non-null  int64         \n",
            "dtypes: datetime64[ns](1), float64(4), int64(2)\n",
            "memory usage: 1.5 MB\n"
          ],
          "name": "stdout"
        }
      ]
    }
  ]
}