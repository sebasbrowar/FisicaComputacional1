{
  "nbformat": 4,
  "nbformat_minor": 0,
  "metadata": {
    "colab": {
      "name": "Actividad2.ipynb",
      "provenance": [],
      "toc_visible": true,
      "authorship_tag": "ABX9TyPYyqxpIpMOaljc1zr1W5w6",
      "include_colab_link": true
    },
    "kernelspec": {
      "name": "python3",
      "display_name": "Python 3"
    }
  },
  "cells": [
    {
      "cell_type": "markdown",
      "metadata": {
        "id": "view-in-github",
        "colab_type": "text"
      },
      "source": [
        "<a href=\"https://colab.research.google.com/github/sebasbrowar/FisicaComputacional1/blob/main/Actividad2/Actividad2.ipynb\" target=\"_parent\"><img src=\"https://colab.research.google.com/assets/colab-badge.svg\" alt=\"Open In Colab\"/></a>"
      ]
    },
    {
      "cell_type": "markdown",
      "metadata": {
        "id": "5uxxvUyUqgx4"
      },
      "source": [
        "# ${\\text{Actividad 2}}$\r\n",
        "## ${\\text{Sebastián Browarski Ruiz}}$"
      ]
    },
    {
      "cell_type": "markdown",
      "metadata": {
        "id": "Z2ov5FTj3_gS"
      },
      "source": [
        "# ${\\text{Ejercicio 1}}$"
      ]
    },
    {
      "cell_type": "markdown",
      "metadata": {
        "id": "SyyMJ_rowLbJ"
      },
      "source": [
        "## ${\\text{Programa proporcionado para calcular área de un rectángulo:}}$"
      ]
    },
    {
      "cell_type": "code",
      "metadata": {
        "id": "fA-F6ilnlpRp"
      },
      "source": [
        "#bibliotecas\r\n",
        "import numpy as np"
      ],
      "execution_count": null,
      "outputs": []
    },
    {
      "cell_type": "code",
      "metadata": {
        "colab": {
          "base_uri": "https://localhost:8080/"
        },
        "id": "WWlnVGtXsWwB",
        "outputId": "57ceaac7-30c0-4272-c06a-cd7731a48902"
      },
      "source": [
        "# Se utiliza el símbolo # para hacer comentarios.\r\n",
        "# Se define una función de 2 variables para calcular el área.  \r\n",
        "def area(x, y):\r\n",
        "    return x * y\r\n",
        "\r\n",
        "print(\"Proporciona el largo y altura del rectángulo: \", end=\"\")\r\n",
        "l = float(input())\r\n",
        "w = float(input())\r\n",
        "a = area(l, w)\r\n",
        "# Imprime el valor del área en formato libre.\r\n",
        "print(\"\\nArea = \", a)\r\n",
        "# Imprime el valor del área con 2 decimales. \r\n",
        "print(\"\\nArea = {:.2f}\".format(a))"
      ],
      "execution_count": null,
      "outputs": [
        {
          "output_type": "stream",
          "text": [
            "Proporciona el largo y altura del rectángulo: 5\n",
            "6\n",
            "\n",
            "Area =  30.0\n",
            "\n",
            "Area = 30.00\n"
          ],
          "name": "stdout"
        }
      ]
    },
    {
      "cell_type": "markdown",
      "metadata": {
        "id": "5xIy5SnNwukE"
      },
      "source": [
        "## ${\\text{Área de un círculo:}}$"
      ]
    },
    {
      "cell_type": "markdown",
      "metadata": {
        "id": "L3WHA3MIyu64"
      },
      "source": [
        "$A=\\pi r^2$ \\\\\r\n",
        "${\\text{Este programa calcula el área de un circulo, solo se requiere introducir el radio de este.}}$"
      ]
    },
    {
      "cell_type": "code",
      "metadata": {
        "id": "iJbZh9h1zXHz",
        "colab": {
          "base_uri": "https://localhost:8080/"
        },
        "outputId": "94364bed-01db-414d-c7aa-1a4530b411e6"
      },
      "source": [
        "# CIRCULO\r\n",
        "# Se define una función con una variable para calcular el área.\r\n",
        "import numpy as np\r\n",
        "def area(x):\r\n",
        "    return np.pi * x**2 #formula del area de un circulo\r\n",
        "\r\n",
        "print(\"Inserte el radio del círculo: \", end=\"\") # pedimos valores\r\n",
        "r = float(input())\r\n",
        "\r\n",
        "a = area(r)\r\n",
        "\r\n",
        "# Imprime el valor del área en formato libre.\r\n",
        "print(\"Área del círculo =\", a)\r\n",
        "# Imprime el valor del área con 2 decimales. \r\n",
        "print(\"Área del círculo con dos puntos decimales= {:.2f}\".format(a))"
      ],
      "execution_count": null,
      "outputs": [
        {
          "output_type": "stream",
          "text": [
            "Inserte el radio del círculo: 4\n",
            "Área del círculo = 50.26548245743669\n",
            "Área del círculo con dos puntos decimales= 50.27\n"
          ],
          "name": "stdout"
        }
      ]
    },
    {
      "cell_type": "markdown",
      "metadata": {
        "id": "oQOp_zhLy0aq"
      },
      "source": [
        "## ${\\text{Área de una elipse:}}$"
      ]
    },
    {
      "cell_type": "markdown",
      "metadata": {
        "id": "Br4Vu1xWy7np"
      },
      "source": [
        "$A=\\pi a b$ \\\\\r\n",
        "${\\text{Este programa calcula el área de una elipse, se debe introducir el semieje mayor y el semieje menor de la elipse.}}$"
      ]
    },
    {
      "cell_type": "code",
      "metadata": {
        "colab": {
          "base_uri": "https://localhost:8080/"
        },
        "id": "LiHEclz6zApy",
        "outputId": "a6d22f11-a7f2-42ef-8c51-c0ef59517ea9"
      },
      "source": [
        "# ELIPSE\r\n",
        "# Se define una función de 2 variables para calcular el área.\r\n",
        "import numpy as np\r\n",
        "def area(x,y):\r\n",
        "    return np.pi * x * y #formula del area de una elipse\r\n",
        "\r\n",
        "print(\"Inserte el semieje mayor de la elipse: \", end=\"\") # pedimos valores\r\n",
        "a = float(input())\r\n",
        "print(\"Inserte el semieje menor de la elipse: \", end=\"\")\r\n",
        "b = float(input())\r\n",
        "\r\n",
        "a = area(a,b)\r\n",
        "\r\n",
        "# Imprime el valor del área en formato libre.\r\n",
        "print(\"Área de la elipse =\", a)\r\n",
        "# Imprime el valor del área con 2 decimales. \r\n",
        "print(\"Área de la elipse con dos puntos decimales= {:.2f}\".format(a))"
      ],
      "execution_count": null,
      "outputs": [
        {
          "output_type": "stream",
          "text": [
            "Inserte el semieje mayor de la elipse: 6\n",
            "Inserte el semieje menor de la elipse: 3\n",
            "Área de la elipse = 56.548667764616276\n",
            "Área de la elipse con dos puntos decimales= 56.55\n"
          ],
          "name": "stdout"
        }
      ]
    },
    {
      "cell_type": "markdown",
      "metadata": {
        "id": "Yr9uHGaG0GOi"
      },
      "source": [
        "## ${\\text{Volumen de una esfera:}}$"
      ]
    },
    {
      "cell_type": "markdown",
      "metadata": {
        "id": "qj0--Lil0Unp"
      },
      "source": [
        "$V=\\frac{4}{3} \\pi r^3$ \\\\\r\n",
        "${\\text{Este programa calcula el volumen de una esfera, solo hace falta introducir el radio de esta.}}$"
      ]
    },
    {
      "cell_type": "code",
      "metadata": {
        "colab": {
          "base_uri": "https://localhost:8080/"
        },
        "id": "W9iYi7TF0uLe",
        "outputId": "cd379ce7-d1c7-43c8-edcf-e80864bbf8c6"
      },
      "source": [
        "# ESFERA\r\n",
        "# Se define una función de una variable para calcular el volumen.\r\n",
        "import numpy as np\r\n",
        "def vol(x):\r\n",
        "    return (4/3) * np.pi * x**3 #formula del volumen de una esfera\r\n",
        "\r\n",
        "print(\"Inserte el radio de la esfera: \", end=\"\") # pedimos valores\r\n",
        "r = float(input())\r\n",
        "\r\n",
        "v = vol(r)\r\n",
        "\r\n",
        "# Imprime el valor del volumen en formato libre.\r\n",
        "print(\"Volumen de la esfera=\", v)\r\n",
        "# Imprime el valor del volumen con 2 decimales. \r\n",
        "print(\"Volumen de la esfera con dos puntos decimales= {:.2f}\".format(v))"
      ],
      "execution_count": null,
      "outputs": [
        {
          "output_type": "stream",
          "text": [
            "Inserte el radio de la esfera: 3\n",
            "Volumen de la esfera= 113.09733552923254\n",
            "Volumen de la esfera con dos puntos decimales= 113.10\n"
          ],
          "name": "stdout"
        }
      ]
    },
    {
      "cell_type": "markdown",
      "metadata": {
        "id": "6QnYP-Wr1g2c"
      },
      "source": [
        "## ${\\text{Volumen de un cilindro circular:}}$"
      ]
    },
    {
      "cell_type": "markdown",
      "metadata": {
        "id": "enq5MVMw1oaW"
      },
      "source": [
        "$V=\\pi r^2 h$ \\\\\r\n",
        "${\\text{Este programa calcula el volumen de un cilindro circular, se debe introducir el radio de la base del cilindro y la altura de este.}}$"
      ]
    },
    {
      "cell_type": "code",
      "metadata": {
        "colab": {
          "base_uri": "https://localhost:8080/"
        },
        "id": "AgsTMM1515jz",
        "outputId": "06fe4a77-337e-4387-e1e8-70fbde2cfeab"
      },
      "source": [
        "# CILINDRO\r\n",
        "# Se define una función con dos variables para calcular el volumen.\r\n",
        "import numpy as np\r\n",
        "def vol(x,y):\r\n",
        "    return np.pi * x**2 * y # formula del volumen de un cilindro circular\r\n",
        "\r\n",
        "print(\"Inserte el radio del cilindro: \", end=\"\") # pedimos valores\r\n",
        "r = float(input())\r\n",
        "print(\"Inserte la altura del cilindro: \", end=\"\")\r\n",
        "h = float(input())\r\n",
        "\r\n",
        "v = vol(r,h)\r\n",
        "\r\n",
        "# Imprime el valor del volumen en formato libre.\r\n",
        "print(\"Volumen del cilindro circular =\", v)\r\n",
        "# Imprime el valor del volumen con 2 decimales. \r\n",
        "print(\"Volumen del cilindro circular con dos puntos decimales= {:.2f}\".format(v))"
      ],
      "execution_count": null,
      "outputs": [
        {
          "output_type": "stream",
          "text": [
            "Inserte el radio del cilindro: 4\n",
            "Inserte la altura del cilindro: 6.7\n",
            "Volumen del cilindro circular = 336.77873246482585\n",
            "Volumen del cilindro circular con dos puntos decimales= 336.78\n"
          ],
          "name": "stdout"
        }
      ]
    },
    {
      "cell_type": "markdown",
      "metadata": {
        "id": "O7tDrnZ14QNC"
      },
      "source": [
        "de un cilindro circular"
      ]
    },
    {
      "cell_type": "markdown",
      "metadata": {
        "id": "CZzeUAT24T1m"
      },
      "source": [
        "# ${\\text{Ejercicio 2}}$"
      ]
    },
    {
      "cell_type": "markdown",
      "metadata": {
        "id": "Ja9lylHG7mUr"
      },
      "source": [
        "## ${\\text{Programa para calcular las raíces de una ecuación cuadrática:}}$"
      ]
    },
    {
      "cell_type": "markdown",
      "metadata": {
        "id": "DBoEeovH8JRF"
      },
      "source": [
        "$\\text{La Fórmula Cuadrática es }\tx_{1,2} = \\frac {-b \\pm \\sqrt {b^2 - 4ac}}{2a}$"
      ]
    },
    {
      "cell_type": "code",
      "metadata": {
        "id": "hpM0w2Ic8FSe",
        "colab": {
          "base_uri": "https://localhost:8080/"
        },
        "outputId": "ba5421b1-5103-4212-f366-226f986ce0b8"
      },
      "source": [
        "import numpy as np\r\n",
        "\r\n",
        "# valores de la ecuacion cuadratica, este programa no calcula numeros imaginarios\r\n",
        "print(\"Inserte el valor de 'a' de la ecuación cuadrática:\")\r\n",
        "a = float(input()) \r\n",
        "print(\"Inserte el valor de 'b' de la ecuación cuadrática:\")\r\n",
        "b = float(input())\r\n",
        "print(\"Inserte el valor de 'c' de la ecuación cuadrática:\")\r\n",
        "c = float(input())\r\n",
        "\r\n",
        "d = (b**2) - (4 * a * c) # calculamos el discriminante\r\n",
        "\r\n",
        "# formula cuadratica\r\n",
        "x1 = (-b + np.sqrt(d)) / (2 * a) \r\n",
        "x2 = (-b - np.sqrt(d)) / (2 * a)\r\n",
        "\r\n",
        "print(\"La raiz x1 es:\", x1)\r\n",
        "print(\"La raiz x2 es:\", x2)\r\n"
      ],
      "execution_count": null,
      "outputs": [
        {
          "output_type": "stream",
          "text": [
            "Inserte el valor de 'a' de la ecuación cuadrática:\n",
            "1\n",
            "Inserte el valor de 'b' de la ecuación cuadrática:\n",
            "-5\n",
            "Inserte el valor de 'c' de la ecuación cuadrática:\n",
            "6\n",
            "La raiz x1 es: 3.0\n",
            "La raiz x2 es: 2.0\n"
          ],
          "name": "stdout"
        }
      ]
    },
    {
      "cell_type": "markdown",
      "metadata": {
        "id": "M5UBw3-u7QoO"
      },
      "source": [
        "# ${\\text{Ejercicio 3}}$"
      ]
    },
    {
      "cell_type": "markdown",
      "metadata": {
        "id": "i3bF6d2_7T7_"
      },
      "source": [
        "## ${\\text{Método Babilonio (o Método de Herón):}}$"
      ]
    },
    {
      "cell_type": "markdown",
      "metadata": {
        "id": "GChiAD5T-5ce"
      },
      "source": [
        "${\\text{Este programa usa el método Babilonio (o Método de Herón), para aproximar la raíz cuadrada de un número S.}}$ \\\\\r\n",
        "${\\text{Para comprobar la aproximación, usaremos np.sqrt(S).}}$"
      ]
    },
    {
      "cell_type": "code",
      "metadata": {
        "id": "7HTVZ6TG_RX0",
        "colab": {
          "base_uri": "https://localhost:8080/"
        },
        "outputId": "7ba88b89-5a2d-4e2c-d244-738057f974e0"
      },
      "source": [
        "import numpy as np\r\n",
        "\r\n",
        "print(\"Inserte el número S al cual desea aproximar su raiz: \")\r\n",
        "S = float(input())\r\n",
        "\r\n",
        "x = S # x empieza valiendo el numero asignado por el usuario\r\n",
        "x0 = 1 # valor inicial, de preferencia se suele poner 1\r\n",
        "\r\n",
        "while (x - x0 > .01): # entre menor sea el error, mejor sera la aproximacion\r\n",
        "    x = (x + x0) / 2 # se crea el loop en el que los valores de x y x0 iran cambiando\r\n",
        "    x0 = S / x\r\n",
        "# el programa para hasta que practicamente S es igual a x0, ya que la diferencia entre ellos se vuelve menor que .01\r\n",
        "\r\n",
        "print(\"El valor real de la raiz es: \", np.sqrt(S))\r\n",
        "print(\"El resultado de la aproximación dio: \", x)\r\n",
        "\r\n"
      ],
      "execution_count": null,
      "outputs": [
        {
          "output_type": "stream",
          "text": [
            "Inserte el número S al cual desea aproximar su raiz: \n",
            "5\n",
            "El valor real de la raiz es:  2.23606797749979\n",
            "El resultado de la aproximación dio:  2.238095238095238\n"
          ],
          "name": "stdout"
        }
      ]
    },
    {
      "cell_type": "markdown",
      "metadata": {
        "id": "4ZY_RIqSGCJW"
      },
      "source": [
        "# ${\\text{Ejercicio 4}}$"
      ]
    },
    {
      "cell_type": "markdown",
      "metadata": {
        "id": "uvBivYZgGF-B"
      },
      "source": [
        "## ${\\text{Series de Taylor:}}$"
      ]
    },
    {
      "cell_type": "markdown",
      "metadata": {
        "id": "pTMfP0c5GjGN"
      },
      "source": [
        "${\\text{Se utilizan las series de Taylor para aproximar y graficar la función ln(1+x) alrededor de x=0.}}$ \\\\\r\n",
        "$ln(1+x)=\\displaystyle\\sum_{n=1}^\\infty (-1)^{n+1}\\frac{x^n}{n}=x-\\frac{x^2}{2}+\\frac{x^3}{3}-\\cdots$ \r\n",
        "\r\n"
      ]
    },
    {
      "cell_type": "code",
      "metadata": {
        "colab": {
          "base_uri": "https://localhost:8080/",
          "height": 312
        },
        "id": "B77X8unDJRh7",
        "outputId": "886431c1-e705-4d21-c75a-0c7d5a8de78d"
      },
      "source": [
        "import matplotlib.pyplot as plt\r\n",
        "import numpy as np\r\n",
        "\r\n",
        "def taylor(n): # Series de Taylor\r\n",
        "    i = 1\r\n",
        "    sT = 0\r\n",
        "\r\n",
        "    while i <= n:\r\n",
        "        z = x**i / i\r\n",
        "        if i % 2 == 1: # si son impares, se suman\r\n",
        "            sT = sT + z\r\n",
        "        else:\r\n",
        "            sT = sT - z #el resto, o sea pares, se restan\r\n",
        "        i = i + 1\r\n",
        "\r\n",
        "    return sT\r\n",
        "\r\n",
        "# Gráfica de funciones\r\n",
        "# Definición de variables y funciones\r\n",
        "\r\n",
        "x = np.linspace(-1.5, 1.5, 100)  # arrego de 100 puntos entre -1.5 y 1.5\r\n",
        "\r\n",
        "y = np.log(1+x)  # y será también un arreglo de 100 puntos automáticamente\r\n",
        "\r\n",
        "# Creación de la gráficas\r\n",
        "\r\n",
        "plt.subplot(111)\r\n",
        "\r\n",
        "plt.xlabel(\"X label\")\r\n",
        "\r\n",
        "plt.ylabel(\"Y label\")\r\n",
        "\r\n",
        "plt.title(\"Polinomios de Taylor para ln(1+x)\")\r\n",
        "\r\n",
        "# Graficar varias funciones\r\n",
        "\r\n",
        "plt.plot(x, y, label=\"ln(1+x)\")\r\n",
        "plt.plot(x, taylor(4), label='$T_{4}$')\r\n",
        "plt.plot(x, taylor(7), label='$T_{7}$')\r\n",
        "plt.plot(x, taylor(11), label='$T_{11}$')\r\n",
        "plt.plot(x, taylor(16), label='$T_{16}$')\r\n",
        "\r\n",
        "# Agregar una malla\r\n",
        "\r\n",
        "plt.grid(True)\r\n",
        "\r\n",
        "# Fijar los límites en el eje Y.\r\n",
        "\r\n",
        "plt.ylim(-4, 2)\r\n",
        "\r\n",
        "# Ubicación de las etiquetas de las funciones\r\n",
        "\r\n",
        "plt.legend(bbox_to_anchor=(1, 1), loc=\"upper left\")\r\n",
        "\r\n",
        "plt.show()\r\n",
        "\r\n",
        "# plt.savefig('plot.png')  # Si se desea guardar en un archivo la imagen de la gráfica\r\n"
      ],
      "execution_count": 4,
      "outputs": [
        {
          "output_type": "stream",
          "text": [
            "/usr/local/lib/python3.6/dist-packages/ipykernel_launcher.py:23: RuntimeWarning: invalid value encountered in log\n"
          ],
          "name": "stderr"
        },
        {
          "output_type": "display_data",
          "data": {
            "image/png": "[encoded data removed]",
            "text/plain": [
              "<Figure size 432x288 with 1 Axes>"
            ]
          },
          "metadata": {
            "tags": [],
            "needs_background": "light"
          }
        }
      ]
    }
  ]
}